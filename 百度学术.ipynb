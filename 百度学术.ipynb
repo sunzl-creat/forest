{
 "cells": [
  {
   "cell_type": "code",
   "execution_count": 1,
   "metadata": {},
   "outputs": [],
   "source": [
    "#存入txt文件\n",
    "import requests\n",
    "from bs4 import BeautifulSoup\n",
    "from urllib.request import quote"
   ]
  },
  {
   "cell_type": "code",
   "execution_count": 6,
   "metadata": {},
   "outputs": [],
   "source": [
    "f = open('百度学术.txt','w',encoding ='utf-8') #创建txt格式文件，方便等会存储\n",
    "keyword = \"Cross-Border%20Education\"\n",
    "pagenumber = 3\n",
    "header = {\"user-agent\":\" Mozilla/5.0 (Windows NT 10.0; Win64; x64) AppleWebKit/537.36 (KHTML, like Gecko) Chrome/103.0.5060.114 Safari/537.36 Edg/103.0.1264.62\"}"
   ]
  },
  {
   "cell_type": "code",
   "execution_count": 7,
   "metadata": {},
   "outputs": [
    {
     "name": "stdout",
     "output_type": "stream",
     "text": [
      "\n",
      "The Influence of Compulsory Education on National Identification of the Cross-Border Ethnic Students\n",
      "\n",
      "Compulsory education embodies the will of the state.It plays an important part in the national identification of the cross-border ethnic students.In compulsory education,school curriculum,teachers,and campus culture are the most important factors influencing the national identification of students.This article makes the theoretical analysis of the compulsory education,cross-border ethnic group,and national identification.It discusses the factors influencing the national identification of the cross-border ethnic students in compulsory education in Mengla County of Xishuangbanna.Finally,it explores the problems that exist in the compulsory education considering the cultivation of national identification of the cross-border ethnic students.supports all the CNKI file formats;only supports the PDF format.\n",
      "\n",
      "Cross-Border Education\n",
      "\n",
      "\n",
      "Cross-border education in the field of renewable energies using a dynamic simulation software\n",
      "\n",
      "\n",
      "On the Cross-Border Education and the Cross-border Ethnic Education in Yunnan\n",
      "\n",
      "Educational globalization together with further education cooperation among different countries has been popularizing the cross-border education and cross-border ethnic education.However,there have also appeared more related problems.With more types of cross-border education emerging,there have been controversies over such concepts as cross-border education,the cross-border education service and trade and cross-border ethnic education.With the establishment of Yunnan as the strategic bridgehead to Southeast Asia and South Asia,it has great significance to clarify the nature and objects of cross-border education and cross-border ethnic education for furthering the cooperation in various aspects between Yunnan of China and the countries of Southeast Asia and South Asia.\n",
      "\n",
      "On Improving Quality of Cross-border Education in Colleges\n",
      "\n",
      "Colleges are facing many problems when developing cross-border education. The vocational colleges with Sino -foreign cooperative education projects are obliged not only to identify the localization of the projects, strengthen the construction of teachers, but also establish the effective quality management systems both externally and internally, so as to solve the problems faced and cultivate talents to complete the educational objectives.\n",
      "\n",
      "A Macro-strategic Analysis on Cross-border Education in Pan-Tonkin Gulf after the Commencement of the ASEAN Charter\n",
      "\n",
      "After the commencement of the ASEAN Charter,together with the development of China-ASEAN free trade area,in this paper,we propose 4 macro-strategies for cross-border education in Pan-Tonkin Gulf,these includes: regions strategy-promote the growth of cross-border education between China and the area of ASEAN free trade;phase strategy-develop cross-border education during the period of early the twelfth five-year-plan;goals strategy,to achieve the goal of increasing cross-border education by 20% in the next five years;differences strategies-promote varied cross-border education with countries of Vietnam,Thailand,Indonesia in particularly.\n",
      "\n",
      "Cross-border education: an important and new research field\n",
      "\n",
      "Under the framework of WTO and economic globalization,cross-border education has emerged in some countries and some areas,and has great development in recent years.Cross-border education has positive and negative effect.We should master the opportunity and avoid the harmfulness to strenghthen our cross-border education.\n",
      "\n",
      "Review on Foreign Studies of Cross-border Education in Recent 10 Years\n",
      "\n",
      "In the past ten years,the ideas and activities on cross-border education were concerned. By reviewing foreign literatures,it is found that the term of cross-border education is widely used since 2003. Foreign scholars have conducted extensive studies on problems in this area,such as its concept,its motivation,its subject,relationship between cross-border education and GATS,and its impact on education systems around the world. Because profit is the primary purpose and people need to pay high tuition,and therefore cross-border education can not improve the student enrollment opportunities in host country significantly,the impact on the local education system is very limited. The studies also showed that in most of the countries or areas,quality assurance system has not been established or improved,quality certification capacity of existing institutions for cross-border education is very limited,the quality of the current cross-border education is worrying.\n",
      "\n",
      "The Formation,Changes and the Influence of China′s Cross-border Education Quality\n",
      "\n",
      "As an important component of China′s education opens up to the outside world,cross-border education plays a positive and important role in introducing international education concepts,sharing international education resources,expanding international academic exchanges,and cultivating international talents.It has great significance to make a review on the formation,changes and the influence of China′s cross-border education quality so as to make an analysis on strengthening the education quality management in China.The author tries to analyze the influence of cross-border education quality on modern China′s economy and society by analyzing the history and the reality of China′s cross-border education quality,and the development trend of cross-border education quality management.\n",
      "\n",
      "The Cross-border Education——A Major Approach to the Internationalization of Higher Education\n",
      "\n",
      "In November,2003,with the cooperation of OECD and Education Ministry of Norway,the concept of \"cross-border education\" was clearly proposed in the Second International Seminar of Trade in Education Service.With the development of it,the quality problem has become a major issue.The cause of quality problem mainly relates to governments,education institutes and students.With the guidance of guaranteeing the quality of cross-border education which is proposed by the cooperation of UNESCO and OECD,China should improve the regulatory system of government and set up the quality evaluation standard and accreditation system of cross-border education institute to guarantee the interest of the educatees.\n",
      "\n",
      "Cross-Border Education in the Field of Renewable Energies Using a Dynamic Simulation Software\n",
      "\n",
      "Globalization is not only affecting trade and commerce, but also education. An increasing number of universities around the world offer Master courses for international students. Due to very different technical, cultural, and social backgrounds many challenges are encountered by students and teachers alike. Advanced didactics and innovative teaching tools are required to master these problems. In the field of renewable energies, dynamic simulation software can offer interesting solutions.\n",
      "\n",
      "Management problems in the borderland of Yunnan concerning the crossborder education of the school children from China's neighboring...\n",
      "\n",
      "In recent years,with the development of economy and education in the borderland of China,there is a yearly increase of school-age children who have entered the borderland schools of China from the neighboring countries like Myanmar,Laos and Vietnam which border on Yunnan province of China.Based on the education situation survey of these children,this paper discusses the existing problems.Against the background of the implementation of the\"Belt and Road Initiative\"and with a consideration of our national strategies as well as the construction of a community of shared future for mankind,this paper brings up the following suggestions:there should be strict management of these children in terms of policy implementation and legal enforcement as well as the borderland security,special policies for such borderland education,special borderland schools,and the establishment of a joint management mechanism,which will lead to win-win cooperation and development for China and its neighboring countries.\n",
      "\n",
      "Globalization and Higher Education: From Border Education to Cross-border Education\n",
      "\n",
      "Higher education system and academic communication of higher education are profoundly affected by higher education internationalization and transformation from elite education and universal education. As a new form of global education, cross-border education rises in response to the proper time and conditions. This paper outlines the main aspects of cross-border education development. It mainly focuses on the opportunities and challenges faced by cross-border education and the international framework for regulating new forms of cross-border higher education.\n"
     ]
    }
   ],
   "source": [
    "for pn in range(pagenumber):#爬取pagenumber页\n",
    "    \n",
    "    url = \"https://xueshu.baidu.com/s?wd=\"+ keyword +\"&pn=\"+ str(pn*10) +\"&tn=SE_baiduxueshu_c1gjeupa&ie=utf-8&bcp=2&sc_hit=1\"\n",
    "    \n",
    "    html = requests.get(url,header)\n",
    "    \n",
    "    #print(html.status_code) #查看是否能获取数据\n",
    "    \n",
    "    bs1 = BeautifulSoup(html.text, 'html.parser') #解析数据\n",
    "    \n",
    "    list_titles = bs1.find_all('div', class_=\"sc_content\") #找到所有标题列表\n",
    "    \n",
    "    for i in list_titles:\n",
    "        title = i.find('h3',class_=\"t c_font\").text #爬到标题\n",
    "        print(title)\n",
    "        #f.write(title)\n",
    "        \n",
    "        #获取文章跳转链接\n",
    "        wholelink = i.find('h3',class_=\"t c_font\").find('a')['href']\n",
    "        #print(wholelink)\n",
    "        #wholelink = 'http:'+str(half_link)\n",
    "        re = requests.get(wholelink, header) #爬取该网站内容\n",
    "        if re.status_code == 200:\n",
    "            bs2 = BeautifulSoup(re.text, 'html.parser') #解析该网站内容'''\n",
    "            #print(\"ok\")\n",
    "            \n",
    "            infos = bs2.find('div',class_=\"main-info\").find('div',class_=\"c_content\")\n",
    "            papers = bs2.find('div',class_=\"paper_src_content\")\n",
    "            author = infos.find('div',class_=\"author_wr\").find('p',class_=\"author_text\").text.strip()\n",
    "            #print(author+'\\n')\n",
    "            #f.write(author)\n",
    "            if infos.find('div',class_=\"abstract_wr\") != None:\n",
    "                abstract = infos.find('div',class_=\"abstract_wr\").find('p',class_=\"abstract\").text.strip()\n",
    "                print(abstract)\n",
    "                f.write('\\n'+abstract)\n",
    "                '''\n",
    "                if infos.find('div',class_=\"year_wr\") != None:\n",
    "                    year = infos.find('div',class_=\"year_wr\").find('p',class_=\"kw_main\").text.strip()\n",
    "                    print(year)\n",
    "                    f.write('\\n'+year)\n",
    "                    if papers.find('div',class_=\"allversion_content\") != None:\n",
    "                        list_dl = papers.find('div',class_=\"allversion_content\").find_all('span',class_=\"dl_item_span\")\n",
    "                        for z in list_dl:\n",
    "                            wb=z.text.strip()\n",
    "                            wblink = z.find('a')['href']\n",
    "                            print(wb+':'+wblink+'\\n')\n",
    "                            f.write('\\n'+ wb+':'+wblink)\n",
    "                        f.write('\\r\\n')\n",
    "                    else:\n",
    "                        print('该文章来源未知'+'\\n')\n",
    "                        f.write('\\n'+ '该文章来源未知')\n",
    "                        f.write('\\r\\n') #txt文件换行：不同的是光标的位置：\\n在下一行开头，\\r在本行的开头\n",
    "                else:\n",
    "                    print('该文章出版年份未知')\n",
    "                    f.write('该文章出版年份未知')\n",
    "                    if papers.find('div',class_=\"allversion_content\") != None:\n",
    "                        list_dl = papers.find('div',class_=\"allversion_content\").find_all('span',class_=\"dl_item_span\")\n",
    "                        for z in list_dl:\n",
    "                            wb=z.text.strip()\n",
    "                            wblink = z.find('a')['href']\n",
    "                            print(wb+':'+wblink+'\\n')\n",
    "                            f.write('\\n'+ wb+':'+wblink)\n",
    "                        f.write('\\r\\n')\n",
    "                '''\n",
    "            else:\n",
    "                '''\n",
    "                print('该文章无摘要, 详情请查看官网：'+wholelink+'\\n')\n",
    "                f.write('该文章无摘要, 详情请查看官网：'+wholelink) \n",
    "                f.write('\\r\\n')\n",
    "                '''   \n",
    "                #break\n",
    " \n",
    "        else:\n",
    "            print('该文章无链接')\n",
    "            #f.write('该文章无链接')\n",
    "f.close() #关闭txt文档\n",
    "    "
   ]
  },
  {
   "cell_type": "code",
   "execution_count": 9,
   "metadata": {},
   "outputs": [
    {
     "ename": "ModuleNotFoundError",
     "evalue": "No module named 'jieba'",
     "output_type": "error",
     "traceback": [
      "\u001b[1;31m---------------------------------------------------------------------------\u001b[0m",
      "\u001b[1;31mModuleNotFoundError\u001b[0m                       Traceback (most recent call last)",
      "\u001b[1;32m<ipython-input-9-0b92c372a006>\u001b[0m in \u001b[0;36m<module>\u001b[1;34m()\u001b[0m\n\u001b[1;32m----> 1\u001b[1;33m \u001b[1;32mimport\u001b[0m \u001b[0mjieba\u001b[0m\u001b[1;33m\u001b[0m\u001b[0m\n\u001b[0m\u001b[0;32m      2\u001b[0m \u001b[1;32mimport\u001b[0m \u001b[0mre\u001b[0m\u001b[1;33m\u001b[0m\u001b[0m\n\u001b[0;32m      3\u001b[0m \u001b[0mr\u001b[0m \u001b[1;33m=\u001b[0m\u001b[1;34m'[，。\\%、；1234567890n]'\u001b[0m\u001b[1;33m\u001b[0m\u001b[0m\n\u001b[0;32m      4\u001b[0m \u001b[0mfile\u001b[0m\u001b[1;33m=\u001b[0m\u001b[0mopen\u001b[0m\u001b[1;33m(\u001b[0m\u001b[1;34m\"百度学术.txt\"\u001b[0m\u001b[1;33m,\u001b[0m\u001b[1;34m\"r\"\u001b[0m\u001b[1;33m,\u001b[0m\u001b[0mencoding\u001b[0m\u001b[1;33m=\u001b[0m\u001b[1;34m'utf-8'\u001b[0m\u001b[1;33m)\u001b[0m\u001b[1;33m.\u001b[0m\u001b[0mread\u001b[0m\u001b[1;33m(\u001b[0m\u001b[1;33m)\u001b[0m\u001b[1;33m\u001b[0m\u001b[0m\n\u001b[0;32m      5\u001b[0m \u001b[0mfile\u001b[0m \u001b[1;33m=\u001b[0m\u001b[0mre\u001b[0m\u001b[1;33m.\u001b[0m\u001b[0msub\u001b[0m\u001b[1;33m(\u001b[0m\u001b[0mr\u001b[0m\u001b[1;33m,\u001b[0m\u001b[1;34m''\u001b[0m\u001b[1;33m,\u001b[0m\u001b[0mfile\u001b[0m\u001b[1;33m)\u001b[0m      \u001b[1;31m#剔除无关信息\u001b[0m\u001b[1;33m\u001b[0m\u001b[0m\n",
      "\u001b[1;31mModuleNotFoundError\u001b[0m: No module named 'jieba'"
     ]
    }
   ],
   "source": [
    "import jieba\n",
    "import re\n",
    "r ='[，。\\%、；1234567890n]'\n",
    "file=open(\"百度学术.txt\",\"r\",encoding='utf-8').read()\n",
    "file =re.sub(r,'',file)      #剔除无关信息\n",
    "con = jieba.lcut(file)     #分词\n",
    "words = \" \".join(con)    #分词后插入空格"
   ]
  },
  {
   "cell_type": "code",
   "execution_count": null,
   "metadata": {},
   "outputs": [],
   "source": [
    "from wordcloud import WordCloud\n",
    "wordcloud = WordCloud(font_path=\"simkai.ttf\",background_color=\"white\",width=800, height=660).generate(words)\n",
    "#我们注意到wordcloud对中文很不友好，必须要进行jieba分词，还应该再WordCloud中增加设置字体的参数\n",
    "#否则生成的词云图片是方框型的\n",
    "wordcloud.to_file('pic.png')     #保存图片"
   ]
  },
  {
   "cell_type": "code",
   "execution_count": null,
   "metadata": {},
   "outputs": [],
   "source": []
  },
  {
   "cell_type": "code",
   "execution_count": 14,
   "metadata": {},
   "outputs": [
    {
     "ename": "ModuleNotFoundError",
     "evalue": "No module named 'jieba'",
     "output_type": "error",
     "traceback": [
      "\u001b[1;31m---------------------------------------------------------------------------\u001b[0m",
      "\u001b[1;31mModuleNotFoundError\u001b[0m                       Traceback (most recent call last)",
      "\u001b[1;32m<ipython-input-14-71874e60dc26>\u001b[0m in \u001b[0;36m<module>\u001b[1;34m()\u001b[0m\n\u001b[1;32m----> 1\u001b[1;33m \u001b[1;32mimport\u001b[0m \u001b[0mjieba\u001b[0m\u001b[1;33m\u001b[0m\u001b[0m\n\u001b[0m",
      "\u001b[1;31mModuleNotFoundError\u001b[0m: No module named 'jieba'"
     ]
    }
   ],
   "source": [
    "import jieba"
   ]
  },
  {
   "cell_type": "markdown",
   "metadata": {},
   "source": [
    "# 存入csv文件"
   ]
  },
  {
   "cell_type": "code",
   "execution_count": 1,
   "metadata": {},
   "outputs": [],
   "source": [
    "import requests\n",
    "from bs4 import BeautifulSoup\n",
    "from urllib.request import quote\n",
    "import pandas as pd"
   ]
  },
  {
   "cell_type": "code",
   "execution_count": 13,
   "metadata": {},
   "outputs": [],
   "source": [
    "keyword = \"Cross-Border%20Education\"\n",
    "pagenumber = 1\n",
    "header = {\"user-agent\":\" Mozilla/5.0 (Windows NT 10.0; Win64; x64) AppleWebKit/537.36 (KHTML, like Gecko) Chrome/103.0.5060.114 Safari/537.36 Edg/103.0.1264.62\"}\n",
    "\n",
    "res = [] #存储百度学术相关信息的字典"
   ]
  },
  {
   "cell_type": "code",
   "execution_count": 14,
   "metadata": {},
   "outputs": [
    {
     "name": "stdout",
     "output_type": "stream",
     "text": [
      "200\n"
     ]
    }
   ],
   "source": [
    "for pn in range(pagenumber):#爬取pagenumber页\n",
    "    \n",
    "    url = \"https://xueshu.baidu.com/s?wd=\"+ keyword +\"&pn=\"+ str(pn*10) +\"&tn=SE_baiduxueshu_c1gjeupa&ie=utf-8&bcp=2&sc_hit=1\"\n",
    "    \n",
    "    html = requests.get(url,header)\n",
    "    \n",
    "    print(html.status_code) #查看是否能获取数据\n",
    "    \n",
    "    bs1 = BeautifulSoup(html.text, 'html.parser') #解析数据\n",
    "    \n",
    "    list_titles = bs1.find_all('div', class_=\"sc_content\") #找到所有标题列表\n",
    "    \n",
    "    for i in list_titles:\n",
    "        \n",
    "        info_content = {} #存储链接信息\n",
    " \n",
    "        #获取文章跳转链接\n",
    "        wholelink = i.find('h3',class_=\"t c_font\").find('a')['href']\n",
    "        #print(wholelink)\n",
    "        \n",
    "        re = requests.get(wholelink, header) #爬取该网站内容\n",
    "        if re.status_code == 200:\n",
    "            \n",
    "            bs2 = BeautifulSoup(re.text, 'html.parser') #解析该网站内容\n",
    "            \n",
    "            #爬取学术文献相关信息：标题 链接 作者 摘要 年份\n",
    "                        \n",
    "            infos = bs2.find('div',class_=\"main-info\").find('div',class_=\"c_content\") #定位有效信息部分\n",
    "            \n",
    "            #标题\n",
    "            title = bs2.find('div',class_=\"main-info\").find('h3').text.strip() #爬到标题\n",
    "            info_content[\"title\"] = title\n",
    "            \n",
    "            #链接\n",
    "            if bs2.find('div',class_=\"main-info\").find('h3').find('a') != None:\n",
    "                link = bs2.find('div',class_=\"main-info\").find('h3').find('a')['href']\n",
    "                info_content[\"link\"] = link\n",
    "            else:\n",
    "                info_content[\"link\"] = \"null\"\n",
    "            \n",
    "            #作者\n",
    "            author = infos.find('div',class_=\"author_wr\").find('p',class_=\"author_text\").text.strip()\n",
    "            #print(author+'\\n')\n",
    "            info_content[\"author\"] = author\n",
    "            \n",
    "            #摘要\n",
    "            if infos.find('div',class_=\"abstract_wr\") != None:\n",
    "                abstract = infos.find('div',class_=\"abstract_wr\").find('p',class_=\"abstract\").text.strip()\n",
    "                #print(abstract)\n",
    "                info_content[\"abstract\"] = abstract\n",
    "            else:\n",
    "                info_content[\"abstract\"] = \"null\"\n",
    "                \n",
    "            #出版年份\n",
    "            if infos.find('div',class_=\"year_wr\") != None:\n",
    "                year = infos.find('div',class_=\"year_wr\").find('p',class_=\"kw_main\").text.strip()\n",
    "                info_content[\"year\"] = year\n",
    "            else:\n",
    "                info_content[\"year\"] = \"null\"\n",
    "             \n",
    "        else:\n",
    "            print(\"fail\")\n",
    "            break\n",
    "            \n",
    "        res.append(info_content)   "
   ]
  },
  {
   "cell_type": "code",
   "execution_count": 15,
   "metadata": {},
   "outputs": [],
   "source": [
    "info_contents = pd.DataFrame(res)\n",
    "\n",
    "info_contents.to_csv(\"baiduxueshu.csv\",index=False,encoding=\"utf_8_sig\")"
   ]
  },
  {
   "cell_type": "code",
   "execution_count": 7,
   "metadata": {},
   "outputs": [
    {
     "name": "stdout",
     "output_type": "stream",
     "text": [
      "200\n",
      "Compulsory education embodies the will of the state.It plays an important part in the national identification of the cross-border ethnic students.In compulsory education,school curriculum,teachers,and campus culture are the most important factors influencing the national identification of students.This article makes the theoretical analysis of the compulsory education,cross-border ethnic group,and national identification.It discusses the factors influencing the national identification of the cross-border ethnic students in compulsory education in Mengla County of Xishuangbanna.Finally,it explores the problems that exist in the compulsory education considering the cultivation of national identification of the cross-border ethnic students.supports all the CNKI file formats;only supports the PDF format.\n",
      "null\n",
      "In Chapter 3 of this book, William Cummings noted the emphasis on human resources and on economic and social priorities that have characterized the development states of East Asia. He then suggested that these states are now moving beyond a century-long strategy of \"catching up\" with Western science and on to new possibilities of knowledge creation, especially in the sciences and technology.\n",
      "International trade in educational services is growing in importance, particularly in post-secondary education. It can take several forms, including stud\n",
      "Capacity building is the goal of educational development,particularly higher education internationalisation,and the means and strategy for developing cross-border education.Capacity building has become a key theme in cross-border education research.Currently,cooperation in educational provision between Chinese and foreign parties is an important means for China to import quality educational resources and enhance higher education in China.It is hence worthy studying capacity building in international cooperation in education.\n",
      "This paper analyzes the specific features of academic honesty in cross-border degree education between Finland and Russia, as seen by students involved in this process. We collected valuable information concerning particular cases of dishonesty as well as some relevant system-level data by doing a Web-based survey. The survey was carried out on our own freshmen and advanced students and on our distance students in Russia. This research was primarily quantitatively oriented, and we used several independent techniques to discover significant dependencies in the feedback provided. The results clearly show the students interest in the topic itself and the evident existence of culture-dependant honesty issues, which cannot be underestimated in the case of a long-term educational partnership.\n",
      "In this four-part series, Sarah Richardson and Ali Radloff highlight the key considerations for strengthening collaboration around cross-border education. Here they address the movement of students from one country to another.\n",
      "In this four-part series, Sarah Richardson and Ali Radloff highlight the key considerations for strengthening collaboration around cross-border education. Here they address the use of technology to facilitate international mobility without movement.\n",
      "Dougan (eds.) Social Welfare and EU law (Hart Publishing, Oxford 2005) and various casecomments on relevant  23 P Craig and G de Birca, EU law - text, cases, and materials (41h ed academic titles from other member states, subject to the limitations expressed in that case.\n",
      "NHL-ChirEx is an interprofessional cross-border education project that addresses the potential excess of radiation induced morbidity throughout the radiation planning and treatment... 查看全部>>\n"
     ]
    }
   ],
   "source": [
    "pn = 0\n",
    "url = \"https://xueshu.baidu.com/s?wd=\"+ keyword +\"&pn=\"+ str(pn*10) +\"&tn=SE_baiduxueshu_c1gjeupa&ie=utf-8&bcp=2&sc_hit=1\"\n",
    "html = requests.get(url,header)\n",
    "print(html.status_code) #查看是否能获取数据\n",
    "bs1 = BeautifulSoup(html.text, 'html.parser') #解析数据\n",
    "list_titles = bs1.find_all('div', class_=\"sc_content\") #找到所有标题列表\n",
    "\n",
    "for i in list_titles:\n",
    "    info_content = {} #存储链接信息\n",
    "    \n",
    "    #获取文章跳转链接\n",
    "    wholelink = i.find('h3',class_=\"t c_font\").find('a')['href']\n",
    "    #print(wholelink)\n",
    "    \n",
    "    #爬取该网站内容\n",
    "    re = requests.get(wholelink, header) \n",
    "    \n",
    "    bs2 = BeautifulSoup(re.text, 'html.parser') #解析该网站内容\n",
    "    \n",
    "    #爬取学术文献相关信息：标题 链接 作者 摘要 关键字 年份\n",
    "    \n",
    "    infos = bs2.find('div',class_=\"main-info\").find('div',class_=\"c_content\") #定位有效信息部分\n",
    "    \n",
    "    #标题\n",
    "    title = bs2.find('div',class_=\"main-info\").find('h3').text.strip() #爬到标题\n",
    "    #print(\"title:\" + title)\n",
    "    info_content[\"title\"] = title\n",
    "    \n",
    "    #链接\n",
    "    link = bs2.find('div',class_=\"main-info\").find('h3').find('a')['href']\n",
    "    #print(\"link:\" + link)\n",
    "    info_content[\"link\"] = link\n",
    "    \n",
    "    #作者\n",
    "    author = infos.find('div',class_=\"author_wr\").find('p',class_=\"author_text\").text.strip()\n",
    "    #print(\"author:\" + author)\n",
    "    info_content[\"author\"] = author\n",
    "    \n",
    "    #摘要\n",
    "    if infos.find('div',class_=\"abstract_wr\") != None:\n",
    "        abstract = infos.find('div',class_=\"abstract_wr\").find('p',class_=\"abstract\").text.strip()\n",
    "        print(abstract)\n",
    "        info_content[\"abstract\"] = abstract\n",
    "    else:\n",
    "        info_content[\"abstract\"] = \"null\"\n",
    "        print(info_content[\"abstract\"])\n",
    "    \n",
    "#print(info_content)"
   ]
  },
  {
   "cell_type": "code",
   "execution_count": null,
   "metadata": {},
   "outputs": [],
   "source": []
  },
  {
   "cell_type": "code",
   "execution_count": null,
   "metadata": {},
   "outputs": [],
   "source": []
  },
  {
   "cell_type": "code",
   "execution_count": null,
   "metadata": {},
   "outputs": [],
   "source": []
  },
  {
   "cell_type": "code",
   "execution_count": null,
   "metadata": {},
   "outputs": [],
   "source": []
  },
  {
   "cell_type": "markdown",
   "metadata": {},
   "source": [
    "### 找规律\n",
    "\n",
    "https://xueshu.baidu.com/s?wd=Cross-Border%20Education&tn=SE_baiduxueshu_c1gjeupa&ie=utf-8&sc_hit=1\n",
    "https://xueshu.baidu.com/s?wd=Cross-Border%20Education&pn=10&tn=SE_baiduxueshu_c1gjeupa&ie=utf-8&sc_hit=1\n",
    "https://xueshu.baidu.com/s?wd=Cross-Border%20Education&pn=20&tn=SE_baiduxueshu_c1gjeupa&ie=utf-8&sc_hit=1\n",
    "https://xueshu.baidu.com/s?wd=Cross-Border%20Education&pn=30&tn=SE_baiduxueshu_c1gjeupa&ie=utf-8&sc_hit=1\n",
    "-------\n",
    "https://xueshu.baidu.com/s?wd=Cross-Border%20Education&pn=130&tn=SE_baiduxueshu_c1gjeupa&ie=utf-8&sc_hit=1"
   ]
  },
  {
   "cell_type": "code",
   "execution_count": null,
   "metadata": {},
   "outputs": [],
   "source": []
  },
  {
   "cell_type": "code",
   "execution_count": 23,
   "metadata": {},
   "outputs": [],
   "source": []
  },
  {
   "cell_type": "code",
   "execution_count": null,
   "metadata": {},
   "outputs": [],
   "source": []
  }
 ],
 "metadata": {
  "kernelspec": {
   "display_name": "Python 3",
   "language": "python",
   "name": "python3"
  },
  "language_info": {
   "codemirror_mode": {
    "name": "ipython",
    "version": 3
   },
   "file_extension": ".py",
   "mimetype": "text/x-python",
   "name": "python",
   "nbconvert_exporter": "python",
   "pygments_lexer": "ipython3",
   "version": "3.6.4"
  }
 },
 "nbformat": 4,
 "nbformat_minor": 2
}
